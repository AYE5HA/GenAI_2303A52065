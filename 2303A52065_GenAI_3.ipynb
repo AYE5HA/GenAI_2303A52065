{
  "nbformat": 4,
  "nbformat_minor": 0,
  "metadata": {
    "colab": {
      "provenance": [],
      "authorship_tag": "ABX9TyN7nFa0ImLcPMRCEuMx7yMw",
      "include_colab_link": true
    },
    "kernelspec": {
      "name": "python3",
      "display_name": "Python 3"
    },
    "language_info": {
      "name": "python"
    }
  },
  "cells": [
    {
      "cell_type": "markdown",
      "metadata": {
        "id": "view-in-github",
        "colab_type": "text"
      },
      "source": [
        "<a href=\"https://colab.research.google.com/github/AYE5HA/GenAI_2303A52065/blob/main/2303A52065_GenAI_3.ipynb\" target=\"_parent\"><img src=\"https://colab.research.google.com/assets/colab-badge.svg\" alt=\"Open In Colab\"/></a>"
      ]
    },
    {
      "cell_type": "code",
      "execution_count": 4,
      "metadata": {
        "colab": {
          "base_uri": "https://localhost:8080/"
        },
        "id": "_eT219WF-PrO",
        "outputId": "286020e7-5a4b-4380-cf00-524ea7d8659b"
      },
      "outputs": [
        {
          "output_type": "stream",
          "name": "stdout",
          "text": [
            "Minimum value of x: 5.963540395046457e-28\n",
            "Minimum value of f(x): 10.0\n"
          ]
        }
      ],
      "source": [
        "def f(x):\n",
        "  return 5 * x**4 + 3 * x**2 + 10\n",
        "def df(x):\n",
        "  return 20 * x**3 + 6 * x\n",
        "def gradient_descent(learning_rate=0.01, num_iterations=1000, initial_x=1):\n",
        "  x = initial_x\n",
        "  for _ in range(num_iterations):\n",
        "    gradient = df(x)\n",
        "    x = x - learning_rate * gradient\n",
        "  return x\n",
        "x_min = gradient_descent()\n",
        "print(\"Minimum value of x:\", x_min)\n",
        "print(\"Minimum value of f(x):\", f(x_min))"
      ]
    },
    {
      "cell_type": "code",
      "source": [
        "def g(x, y):\n",
        "  return 3 * x**2 + 5 * (2.71828)**(-y) + 10\n",
        "def dg_dx(x, y):\n",
        "  return 6 * x\n",
        "def dg_dy(x, y):\n",
        "  return -5 * (2.71828)**(-y)\n",
        "def gradient_descent(learning_rate=0.01, num_iterations=1000, initial_x=1, initial_y=1):\n",
        "  x = initial_x\n",
        "  y = initial_y\n",
        "  for _ in range(num_iterations):\n",
        "    gradient_x = dg_dx(x, y)\n",
        "    gradient_y = dg_dy(x, y)\n",
        "    x = x - learning_rate * gradient_x\n",
        "    y = y - learning_rate * gradient_y\n",
        "  return x, y\n",
        "x_min, y_min = gradient_descent()\n",
        "print(\"Minimum value of x:\", x_min)\n",
        "print(\"Minimum value of y:\", y_min)"
      ],
      "metadata": {
        "colab": {
          "base_uri": "https://localhost:8080/"
        },
        "id": "imjW1NmX_BkW",
        "outputId": "d31bdda3-0ce1-4a2f-e37f-dd795b3ac08d"
      },
      "execution_count": 6,
      "outputs": [
        {
          "output_type": "stream",
          "name": "stdout",
          "text": [
            "Minimum value of x: 1.3423123924933694e-27\n",
            "Minimum value of y: 3.966372788969171\n"
          ]
        }
      ]
    },
    {
      "cell_type": "code",
      "source": [
        "def sigmoid(x):\n",
        "  return 1 / (1 + 2.718281828459045**(-x))\n",
        "def sigmoid_derivative(x):\n",
        "  return sigmoid(x) * (1 - sigmoid(x))\n",
        "def gradient_descent(learning_rate=0.1, num_iterations=1000, initial_x=0):\n",
        "  x = initial_x\n",
        "  for _ in range(num_iterations):\n",
        "    gradient = sigmoid_derivative(x)\n",
        "    x = x - learning_rate * gradient\n",
        "  return x\n",
        "x_min = gradient_descent()\n",
        "print(\"Minimum value of x:\", x_min)\n",
        "print(\"Minimum value of sigmoid(x):\", sigmoid(x_min))"
      ],
      "metadata": {
        "colab": {
          "base_uri": "https://localhost:8080/"
        },
        "id": "RH6uJgYIANZe",
        "outputId": "058ec517-075a-4de9-c450-cc7d37b8728d"
      },
      "execution_count": 8,
      "outputs": [
        {
          "output_type": "stream",
          "name": "stdout",
          "text": [
            "Minimum value of x: -4.512436490262131\n",
            "Minimum value of sigmoid(x): 0.010852623477864688\n"
          ]
        }
      ]
    },
    {
      "cell_type": "code",
      "source": [
        "input_value = 2\n",
        "expected_output = 0.5\n",
        "min_error = float('inf')\n",
        "optimal_M = None\n",
        "optimal_C = None\n",
        "M_values = [i * 0.1 for i in range(-100, 101)]\n",
        "C_values = [i * 0.1 for i in range(-100, 101)]\n",
        "for M in M_values:\n",
        "    for C in C_values:\n",
        "      predicted_output = M * input_value + C\n",
        "      square_error = (expected_output - predicted_output) ** 2\n",
        "      if square_error < min_error:\n",
        "            min_error = square_error\n",
        "            optimal_M = M\n",
        "            optimal_C = C\n",
        "print(f\"Optimal M: {optimal_M}\")\n",
        "print(f\"Optimal C: {optimal_C}\")\n",
        "print(f\"Minimum Square Error: {min_error}\")"
      ],
      "metadata": {
        "colab": {
          "base_uri": "https://localhost:8080/"
        },
        "id": "rSrQu5BmBBRN",
        "outputId": "5b519d72-0b7d-4106-b7ca-ef489c09945e"
      },
      "execution_count": 9,
      "outputs": [
        {
          "output_type": "stream",
          "name": "stdout",
          "text": [
            "Optimal M: -4.7\n",
            "Optimal C: 9.9\n",
            "Minimum Square Error: 0.0\n"
          ]
        }
      ]
    }
  ]
}