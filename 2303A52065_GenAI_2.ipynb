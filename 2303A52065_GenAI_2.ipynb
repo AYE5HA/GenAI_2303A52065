{
  "nbformat": 4,
  "nbformat_minor": 0,
  "metadata": {
    "colab": {
      "provenance": [],
      "authorship_tag": "ABX9TyPIN69xoTGCpjyPvQnbzB56",
      "include_colab_link": true
    },
    "kernelspec": {
      "name": "python3",
      "display_name": "Python 3"
    },
    "language_info": {
      "name": "python"
    }
  },
  "cells": [
    {
      "cell_type": "markdown",
      "metadata": {
        "id": "view-in-github",
        "colab_type": "text"
      },
      "source": [
        "<a href=\"https://colab.research.google.com/github/AYE5HA/GenAI_2303A52065/blob/main/2303A52065_GenAI_2.ipynb\" target=\"_parent\"><img src=\"https://colab.research.google.com/assets/colab-badge.svg\" alt=\"Open In Colab\"/></a>"
      ]
    },
    {
      "cell_type": "code",
      "source": [
        "def maximize_profit():\n",
        "  milk_available = 5\n",
        "  choco_available = 12\n",
        "  profit_A = 6\n",
        "  profit_B = 5\n",
        "  max_profit = 0\n",
        "  best_A = 0\n",
        "  best_B = 0\n",
        "  for A in range(milk_available + 1):\n",
        "    for B in range(choco_available + 1):\n",
        "      if A + B <= milk_available and 3 * A + 2 * B <= choco_available:\n",
        "        current_profit = profit_A * A + profit_B * B\n",
        "        if current_profit > max_profit:\n",
        "          max_profit = current_profit\n",
        "          best_A = A\n",
        "          best_B = B\n",
        "  print(\"Optimal solution found:\")\n",
        "  print(f\"Produce {best_A} units of Chocolate A\")\n",
        "  print(f\"Produce {best_B} units of Chocolate B\")\n",
        "  print(f\"Maximum Profit: Rs {max_profit}\")\n",
        "maximize_profit()"
      ],
      "metadata": {
        "id": "RCUH9evAWL4t",
        "colab": {
          "base_uri": "https://localhost:8080/"
        },
        "outputId": "42c336a3-e719-4599-f287-9c6ce76a12d7"
      },
      "execution_count": 1,
      "outputs": [
        {
          "output_type": "stream",
          "name": "stdout",
          "text": [
            "Optimal solution found:\n",
            "Produce 2 units of Chocolate A\n",
            "Produce 3 units of Chocolate B\n",
            "Maximum Profit: Rs 27\n"
          ]
        }
      ]
    },
    {
      "cell_type": "code",
      "source": [
        "from scipy.optimize import linprog\n",
        "c = [-2000, -50]\n",
        "A = [[7000, 120], [10, 30]]\n",
        "b = [700000, 1200]\n",
        "x0_bounds = (0, None)\n",
        "x1_bounds = (0, None)\n",
        "result = linprog(c, A_ub=A, b_ub=b, bounds=[x0_bounds, x1_bounds], method='highs')\n",
        "wheat_area, barley_area = result.x\n",
        "print(f'Optimal Solution:')\n",
        "print(f'Wheat acreage: {wheat_area:.2f} hectares')\n",
        "print(f'Barley acreage: {barley_area:.2f} hectares')\n",
        "print(f'Optimal Value (Maximum Profit): Rs {-result.fun:.2f}')"
      ],
      "metadata": {
        "colab": {
          "base_uri": "https://localhost:8080/"
        },
        "id": "JgkUXE5kfQdo",
        "outputId": "dc02f25a-4f1e-4fb4-86a3-a90267af4b54"
      },
      "execution_count": 2,
      "outputs": [
        {
          "output_type": "stream",
          "name": "stdout",
          "text": [
            "Optimal Solution:\n",
            "Wheat acreage: 99.89 hectares\n",
            "Barley acreage: 6.70 hectares\n",
            "Optimal Value (Maximum Profit): Rs 200105.36\n"
          ]
        }
      ]
    }
  ]
}